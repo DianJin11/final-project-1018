{
 "cells": [
  {
   "cell_type": "markdown",
   "metadata": {
    "id": "syQjBXh7MPkI"
   },
   "source": [
    "# Bitcoin's Realized Volatility Forecasting with GARCH and Multivariate LSTM"
   ]
  },
  {
   "cell_type": "markdown",
   "metadata": {
    "id": "lA9yUEQgMPkM"
   },
   "source": [
    "### Installing & Importing Libraries "
   ]
  },
  {
   "cell_type": "code",
   "execution_count": null,
   "metadata": {
    "colab": {
     "base_uri": "https://localhost:8080/"
    },
    "id": "ReEbAzsvg4KP",
    "outputId": "fc3c9a61-e941-475f-c0d5-f40ea0e2ef28"
   },
   "outputs": [],
   "source": [
    "# !pip install arch"
   ]
  },
  {
   "cell_type": "code",
   "execution_count": null,
   "metadata": {
    "colab": {
     "base_uri": "https://localhost:8080/"
    },
    "id": "_uB9ddHVg9Z6",
    "outputId": "51058965-1754-4dc8-d851-66e7c2d4a799"
   },
   "outputs": [],
   "source": [
    "# !pip3 install yfinance"
   ]
  },
  {
   "cell_type": "code",
   "execution_count": null,
   "metadata": {
    "id": "Hsc57IvZgEjD"
   },
   "outputs": [],
   "source": [
    "import os\n",
    "import numpy as np\n",
    "import pandas as pd\n",
    "import matplotlib.pyplot as plt\n",
    "import seaborn as sns\n",
    "from datetime import date\n",
    "from scipy import stats\n",
    "import yfinance as yf\n",
    "\n",
    "from datetime import datetime, timedelta\n",
    "from sklearn.metrics import mean_squared_error as mse\n",
    "from sklearn.preprocessing import MinMaxScaler\n",
    "from statsmodels.graphics.tsaplots import plot_acf, plot_pacf\n",
    "\n",
    "%matplotlib inline"
   ]
  },
  {
   "cell_type": "markdown",
   "metadata": {
    "id": "WOspqhSWhPPj"
   },
   "source": [
    "### Load Data from `yfinance`"
   ]
  },
  {
   "cell_type": "code",
   "execution_count": null,
   "metadata": {
    "id": "9FIUV5fehLbA"
   },
   "outputs": [],
   "source": [
    "seed = 2023\n",
    "start = datetime(2015, 1, 1)\n",
    "end = datetime(2023, 11, 30)\n",
    "\n",
    "tckr = 'BTC-USD'\n",
    "\n",
    "ticker = yf.Ticker(tckr)\n",
    "df = ticker.history(start=start, \n",
    "                    end=end, \n",
    "                    interval=\"1d\")"
   ]
  },
  {
   "cell_type": "code",
   "execution_count": null,
   "metadata": {},
   "outputs": [],
   "source": [
    "df.head()"
   ]
  },
  {
   "cell_type": "code",
   "execution_count": null,
   "metadata": {
    "colab": {
     "base_uri": "https://localhost:8080/",
     "height": 549
    },
    "id": "Nb5QFexxW5-h",
    "outputId": "f3cbdc5a-5457-4579-ec5a-03479d791bb7"
   },
   "outputs": [],
   "source": [
    "sns.set_context(\"talk\", font_scale=1.3)\n",
    "\n",
    "# PLOT OUT BTC-USE'S CLOSING PRICES SINCE 2015\n",
    "with sns.axes_style(\"darkgrid\"):\n",
    "    fig, ax = plt.subplots(figsize=(18,8))\n",
    "    sns.lineplot(x=df.index, y=df.Close, color='blue')\n",
    "    ax.set_title('BTC-USD Daily Closing Price')    "
   ]
  },
  {
   "cell_type": "code",
   "execution_count": null,
   "metadata": {
    "id": "D8ThjNC_hzEc"
   },
   "outputs": [],
   "source": [
    "# CALCULATE PRICE RETURNS AS DAILY PERCENTAGE CHANGE USING pct_change()\n",
    "df['returns'] = 100 * df.Close.pct_change().dropna()\n",
    "# CALCULATE LOG RETURNS\n",
    "df['log_returns'] = np.log(df.Close/df.Close.shift(1))"
   ]
  },
  {
   "cell_type": "code",
   "execution_count": null,
   "metadata": {
    "colab": {
     "base_uri": "https://localhost:8080/",
     "height": 238
    },
    "id": "vS-SafAakihp",
    "outputId": "d626a0d0-30db-48d1-8245-4f9fdb4212b4"
   },
   "outputs": [],
   "source": [
    "df.head()"
   ]
  },
  {
   "cell_type": "code",
   "execution_count": null,
   "metadata": {
    "id": "9QlmsgMykk4Z"
   },
   "outputs": [],
   "source": [
    "df.dropna(inplace=True)"
   ]
  },
  {
   "cell_type": "code",
   "execution_count": null,
   "metadata": {
    "colab": {
     "base_uri": "https://localhost:8080/",
     "height": 773
    },
    "id": "MspJdd_wkpYp",
    "outputId": "1986ecf6-d21e-4619-8854-5ccc8f35ea9e"
   },
   "outputs": [],
   "source": [
    "with sns.axes_style(\"darkgrid\"):\n",
    "    fig, axes = plt.subplots(nrows=2, ncols=2, figsize=(18,12))\n",
    "\n",
    "    axes[0][0].plot(df.returns, color='blue')\n",
    "    axes[0][0].set_title('Returns')\n",
    "\n",
    "    sns.distplot(df.returns, norm_hist=True, fit=stats.norm, color='blue',\n",
    "                bins=50, ax=axes[0][1])\n",
    "    axes[0][1].set_title('Returns')\n",
    "\n",
    "    axes[1][0].plot(df.log_returns, color='green')\n",
    "    axes[1][0].set_title('Log Returns')\n",
    "\n",
    "    sns.distplot(df.log_returns, norm_hist=True, fit=stats.norm, color='green',\n",
    "                bins=50, ax=axes[1][1])\n",
    "    axes[1][1].set_title('Log Returns')\n",
    "    plt.tight_layout()\n",
    "    fig.show();"
   ]
  },
  {
   "cell_type": "markdown",
   "metadata": {
    "id": "KTcuSPRjlF6E"
   },
   "source": [
    "Both Returns & Log Returns show some:\n",
    "- slight negative skewness\n",
    "- positive kurtosis (leptokurtic) - higher peak with thicker tails than the standard normal distribution.\n"
   ]
  },
  {
   "cell_type": "code",
   "execution_count": null,
   "metadata": {
    "colab": {
     "base_uri": "https://localhost:8080/"
    },
    "id": "U1NNOFctk4jw",
    "outputId": "ea9d9b37-482f-4e42-ac26-1f0f7c74c011"
   },
   "outputs": [],
   "source": [
    "df.returns.describe()"
   ]
  },
  {
   "cell_type": "code",
   "execution_count": null,
   "metadata": {
    "colab": {
     "base_uri": "https://localhost:8080/"
    },
    "id": "p5kLGkUGk9Cv",
    "outputId": "1a469d95-214c-498c-cc98-0c28f25bbef1"
   },
   "outputs": [],
   "source": [
    "df.log_returns.describe()"
   ]
  },
  {
   "cell_type": "code",
   "execution_count": null,
   "metadata": {
    "id": "nmr5YMqlk_GP"
   },
   "outputs": [],
   "source": [
    "# CREATE A FUNCTION THAT CALCULATE REALIZED VOLATILITY FROM SAILY LOG RETURNS\n",
    "def realized_volatility_daily(series_log_return):\n",
    "    \"\"\"\n",
    "    Get the daily realized volatility which is calculated as the square root\n",
    "    of sum of squares of log returns within a specific window interval \n",
    "    \"\"\"\n",
    "    n = len(series_log_return)\n",
    "    return np.sqrt(np.sum(series_log_return**2)/(n - 1))"
   ]
  },
  {
   "cell_type": "code",
   "execution_count": null,
   "metadata": {
    "id": "p7ARZIwDlD-O"
   },
   "outputs": [],
   "source": [
    "intervals = [7, 30, 60, 180, 365]\n",
    "vols_df = {}\n",
    "\n",
    "for i in intervals:\n",
    "    # GET DAILY LOG RETURNS USING THAT INTERVAL\n",
    "    vols = df.log_returns.rolling(window=i)\\\n",
    "                         .apply(realized_volatility_daily).values\n",
    "    vols_df[i] = vols\n",
    "\n",
    "vols_df = pd.DataFrame(vols_df, columns=intervals, index=df.index)"
   ]
  },
  {
   "cell_type": "code",
   "execution_count": null,
   "metadata": {
    "colab": {
     "base_uri": "https://localhost:8080/",
     "height": 457
    },
    "id": "Wz6I0haQng0j",
    "outputId": "74435c57-6c5e-44ea-c5f1-3315cfa6121c"
   },
   "outputs": [],
   "source": [
    "plt.style.use(['fivethirtyeight'])\n",
    "\n",
    "fig, ax = plt.subplots(figsize=(18,7))\n",
    "\n",
    "for i in intervals:\n",
    "    if i == 7:\n",
    "        alpha = 0.5\n",
    "        lw = 1\n",
    "    else:\n",
    "        alpha = 1.0\n",
    "        lw = 2\n",
    "    ax.plot(vols_df[i], label=f'{i}-Day Interval Realized Volatility', \n",
    "            alpha=alpha, lw=lw)\n",
    "\n",
    "ax.set_title('Realized Volatility Using Different Interval Windows', fontsize=21)\n",
    "\n",
    "plt.legend(loc='best', prop={'size': 14})\n",
    "plt.show();"
   ]
  },
  {
   "cell_type": "code",
   "execution_count": null,
   "metadata": {
    "id": "KuLHsDs_qLej"
   },
   "outputs": [],
   "source": [
    "INTERVAL_WINDOW = 30\n",
    "n_future = 7\n",
    "\n",
    "# GET BACKWARD LOOKING REALIZED VOLATILITY\n",
    "df['vol_current'] = df.log_returns.rolling(window=INTERVAL_WINDOW)\\\n",
    "                                   .apply(realized_volatility_daily)\n",
    "\n",
    "# GET FORWARD LOOKING REALIZED VOLATILITY \n",
    "df['vol_future'] = df.log_returns.shift(-n_future)\\\n",
    "                                 .rolling(window=INTERVAL_WINDOW)\\\n",
    "                                 .apply(realized_volatility_daily)"
   ]
  },
  {
   "cell_type": "code",
   "execution_count": null,
   "metadata": {
    "colab": {
     "base_uri": "https://localhost:8080/",
     "height": 318
    },
    "id": "PvyioUSPr1hE",
    "outputId": "89e85e32-6b3c-4a57-d2f6-36d00de78108"
   },
   "outputs": [],
   "source": [
    "df.describe()"
   ]
  },
  {
   "cell_type": "code",
   "execution_count": null,
   "metadata": {
    "id": "eetJVYyDr4Nr"
   },
   "outputs": [],
   "source": [
    "df = df.drop(['Dividends', 'Stock Splits'], axis=1)"
   ]
  },
  {
   "cell_type": "code",
   "execution_count": null,
   "metadata": {
    "colab": {
     "base_uri": "https://localhost:8080/",
     "height": 300
    },
    "id": "w8JQoHDcsW96",
    "outputId": "c6616ce1-30aa-4f05-82b1-393b15f780b5"
   },
   "outputs": [],
   "source": [
    "df.describe()"
   ]
  },
  {
   "cell_type": "code",
   "execution_count": null,
   "metadata": {
    "id": "6MAZiTWdsYIJ"
   },
   "outputs": [],
   "source": [
    "# DROPPING ALL NaN VALUES\n",
    "df.dropna(inplace=True)"
   ]
  },
  {
   "cell_type": "markdown",
   "metadata": {
    "id": "09OsUPSWut58"
   },
   "source": [
    "## **Exploratory Data Analysis**"
   ]
  },
  {
   "cell_type": "code",
   "execution_count": null,
   "metadata": {
    "colab": {
     "base_uri": "https://localhost:8080/",
     "height": 911
    },
    "id": "CQ22wBKDs0Jt",
    "outputId": "aca39b03-27b2-4efe-818d-4f5a29f00c0e",
    "scrolled": false
   },
   "outputs": [],
   "source": [
    "n_zoom = 365\n",
    "sns.set_context(\"talk\", font_scale=1.3)\n",
    "\n",
    "# VISUALIZE REALIZED CURRENT VS. FUTURE VOLATILITY\n",
    "with sns.axes_style(\"whitegrid\"):\n",
    "    fig, (ax1, ax2) = plt.subplots(nrows=2, ncols=1, figsize=(18,14))\n",
    "\n",
    "    ax1.plot(df.vol_current, alpha=.8, lw=1, color='gray', ls=':',\n",
    "            label='Current Volatility')\n",
    "    ax1.plot(df.vol_future, lw=1, color='blue',\n",
    "            label=f'Next {n_future} Days Volatility (TARGET)')\n",
    "\n",
    "    ax2.plot(df.vol_current[-n_zoom:], alpha=.8, lw=2, color='gray', ls=':',\n",
    "            label='Current Volatility')\n",
    "    ax2.plot(df.vol_future[-n_zoom:], lw=2, color='blue',\n",
    "            label=f'Next {n_future} Days Volatility (TARGET)')\n",
    "\n",
    "    ax1.title.set_text(f'Future vs. Current Daily Volatility \\n Using {INTERVAL_WINDOW}-Day Interval')\n",
    "    ax2.title.set_text(f'Zooming in the Last {n_zoom} Days')\n",
    "\n",
    "    ax1.legend(loc='upper left', prop={'size': 13}, frameon=True)\n",
    "    ax2.legend(loc='upper left', prop={'size': 13}, frameon=True)\n",
    "    plt.tight_layout()\n",
    "    plt.show();"
   ]
  },
  {
   "cell_type": "markdown",
   "metadata": {
    "id": "_rsxewWlyqy3"
   },
   "source": [
    "### **Daily Volatility Distribution**"
   ]
  },
  {
   "cell_type": "code",
   "execution_count": null,
   "metadata": {
    "colab": {
     "base_uri": "https://localhost:8080/",
     "height": 464
    },
    "id": "gL1Tt3_HwXrB",
    "outputId": "a3ff8cb4-27b2-46d1-d7db-17737ffaa3fa"
   },
   "outputs": [],
   "source": [
    "with sns.axes_style(\"darkgrid\"):\n",
    "    fig, ax = plt.subplots(figsize=(10,6))\n",
    "    sns.distplot(df.vol_current, norm_hist=True, fit=stats.norm,\n",
    "                bins=50, ax=ax)\n",
    "    plt.title('Daily Volatility Distribution')\n",
    "    plt.show();"
   ]
  },
  {
   "cell_type": "markdown",
   "metadata": {
    "id": "V4PnBdE2zGKb"
   },
   "source": [
    "### **Returns/Log Returns Stationarity Checking**\n",
    "\n"
   ]
  },
  {
   "cell_type": "code",
   "execution_count": null,
   "metadata": {
    "id": "l4dSnmszyo9D"
   },
   "outputs": [],
   "source": [
    "from statsmodels.tsa.stattools import adfuller"
   ]
  },
  {
   "cell_type": "code",
   "execution_count": null,
   "metadata": {
    "colab": {
     "base_uri": "https://localhost:8080/"
    },
    "id": "lhBRxLSTzKKh",
    "outputId": "f2c420d7-dec7-465c-88fc-c140f8a81cb4"
   },
   "outputs": [],
   "source": [
    "adfuller_results = adfuller(df.log_returns.dropna())\n",
    "\n",
    "print(f'ADF Statistic: {adfuller_results[0]}')\n",
    "print(f'p-value: {adfuller_results[1]}')\n",
    "print('Critical Values:')\n",
    "for key, value in adfuller_results[4].items():\n",
    "    print(f'{key}: {value:.4f}')"
   ]
  },
  {
   "cell_type": "code",
   "execution_count": null,
   "metadata": {
    "colab": {
     "base_uri": "https://localhost:8080/"
    },
    "id": "7R4VV8-CzMBZ",
    "outputId": "bf152deb-0f53-44c5-e610-60b78fa607c8"
   },
   "outputs": [],
   "source": [
    "adfuller_results = adfuller(df.returns.dropna())\n",
    "\n",
    "print(f'ADF Statistic: {adfuller_results[0]}')\n",
    "print(f'p-value: {adfuller_results[1]}')\n",
    "print('Critical Values:')\n",
    "for key, value in adfuller_results[4].items():\n",
    "    print(f'{key}: {value:.4f}')"
   ]
  },
  {
   "cell_type": "markdown",
   "metadata": {
    "id": "c5enB1bM0APV"
   },
   "source": [
    "## Train-Validation-Test Splits"
   ]
  },
  {
   "cell_type": "code",
   "execution_count": null,
   "metadata": {
    "id": "Drad6kTSzySl"
   },
   "outputs": [],
   "source": [
    "test_size = 30\n",
    "val_size = 365\n",
    "\n",
    "split_time_1 = len(df) - (val_size + test_size)\n",
    "split_time_2 = len(df) - test_size\n",
    "\n",
    "train_idx = df.index[:split_time_1]\n",
    "val_idx = df.index[split_time_1:split_time_2]\n",
    "test_idx = df.index[split_time_2:]"
   ]
  },
  {
   "cell_type": "code",
   "execution_count": null,
   "metadata": {
    "colab": {
     "base_uri": "https://localhost:8080/"
    },
    "id": "Ad0gRRC3zyNQ",
    "outputId": "444c81b9-f122-4d54-ea0a-966fd72d523b"
   },
   "outputs": [],
   "source": [
    "print(f'TRAINING \\tFrom: {train_idx[0]} \\tto: {train_idx[-1]} \\t{len(train_idx)} days')\n",
    "print(f'VALIDATION \\tFrom: {val_idx[0]} \\tto: {val_idx[-1]} \\t{len(val_idx)} days')\n",
    "print(f'TEST \\t\\tFrom: {test_idx[0]} \\tto: {test_idx[-1]} \\t{len(test_idx)} days')"
   ]
  },
  {
   "cell_type": "code",
   "execution_count": null,
   "metadata": {
    "id": "HGAZfREfzyLR"
   },
   "outputs": [],
   "source": [
    "y_train = df.vol_future[train_idx]\n",
    "y_val = df.vol_future[val_idx]\n",
    "y_test = df.vol_future[test_idx]"
   ]
  },
  {
   "cell_type": "code",
   "execution_count": null,
   "metadata": {
    "id": "IAsiNrwizyGv"
   },
   "outputs": [],
   "source": [
    "x_train = df.vol_current[train_idx]\n",
    "x_val = df.vol_current[val_idx]\n",
    "x_test = df.vol_current[test_idx]"
   ]
  },
  {
   "cell_type": "code",
   "execution_count": null,
   "metadata": {
    "id": "1YMKqv1H11Gu"
   },
   "outputs": [],
   "source": [
    "r_train = df.returns[train_idx]\n",
    "r_val = df.returns[val_idx]\n",
    "r_test = df.returns[test_idx]"
   ]
  },
  {
   "cell_type": "code",
   "execution_count": null,
   "metadata": {
    "id": "GbuK9xtq2Cr0"
   },
   "outputs": [],
   "source": [
    "lr_train = df.log_returns[train_idx]\n",
    "lr_val = df.log_returns[val_idx]\n",
    "lr_test = df.log_returns[test_idx]"
   ]
  },
  {
   "cell_type": "code",
   "execution_count": null,
   "metadata": {
    "colab": {
     "base_uri": "https://localhost:8080/"
    },
    "id": "F4rB0Xrn_KFj",
    "outputId": "17392379-bc10-4f98-c804-3fdc84e153fe"
   },
   "outputs": [],
   "source": [
    "y_train.describe()"
   ]
  },
  {
   "cell_type": "code",
   "execution_count": null,
   "metadata": {
    "colab": {
     "base_uri": "https://localhost:8080/"
    },
    "id": "kr4cLz1c_MxA",
    "outputId": "2c985a5c-85fc-4677-f257-66273825c781"
   },
   "outputs": [],
   "source": [
    "x_train.describe()"
   ]
  },
  {
   "cell_type": "markdown",
   "metadata": {
    "id": "s8S7h4nS2MpQ"
   },
   "source": [
    "## **Data Preprocessing**\n",
    "\n",
    "### 1. Feature Normalization"
   ]
  },
  {
   "cell_type": "code",
   "execution_count": null,
   "metadata": {
    "colab": {
     "base_uri": "https://localhost:8080/",
     "height": 464
    },
    "id": "J4uqRWsw_aJV",
    "outputId": "ecd5190d-fd6e-4861-ddcb-103c8411543c"
   },
   "outputs": [],
   "source": [
    "with sns.axes_style(\"whitegrid\"):\n",
    "    fig, ax = plt.subplots(figsize=(10,6))\n",
    "    sns.distplot(x_train, norm_hist=True, fit=stats.norm, \n",
    "                 color='gray', \n",
    "                 bins=50, ax=ax, label='Current Volatility')\n",
    "    sns.distplot(y_train, norm_hist=True, fit=stats.norm,\n",
    "                 color='tab:blue', \n",
    "                 bins=50, ax=ax, label='Target Volatility')\n",
    "    plt.title('Training Volatilities Distribution')\n",
    "    plt.legend()\n",
    "    plt.show();"
   ]
  },
  {
   "cell_type": "code",
   "execution_count": null,
   "metadata": {
    "id": "1SIDQBN96WRc"
   },
   "outputs": [],
   "source": [
    "def transform_volatility_to_scaler(scaler, tf_series):\n",
    "    idx = tf_series.index\n",
    "    output = pd.Series(scaler.transform(tf_series.values.reshape(-1,1))[:,0],\n",
    "                       index=idx)\n",
    "    return output"
   ]
  },
  {
   "cell_type": "code",
   "execution_count": null,
   "metadata": {
    "id": "-J_2CSXT2HJj"
   },
   "outputs": [],
   "source": [
    "scaler_vol = MinMaxScaler()\n",
    "scaler_vol = scaler_vol.fit(x_train.values.reshape(-1,1))"
   ]
  },
  {
   "cell_type": "code",
   "execution_count": null,
   "metadata": {
    "id": "WAWOM0YB5_r1"
   },
   "outputs": [],
   "source": [
    "# TRANSFORM TRAINING CURRENT & FUTURE VOLATILITIES \n",
    "x_train_scaled = transform_volatility_to_scaler(scaler_vol, x_train)\n",
    "y_train_scaled = transform_volatility_to_scaler(scaler_vol, y_train)\n",
    "\n",
    "# TRANSFORMING VALIDATION CURRENT & FUTURE VOLATILITIES\n",
    "x_val_scaled = transform_volatility_to_scaler(scaler_vol, x_val)\n",
    "y_val_scaled = transform_volatility_to_scaler(scaler_vol, y_val)\n",
    "\n",
    "# TRANSFORMING TEST CURRENT & FUTURE VOLATILITIES\n",
    "x_test_scaled = transform_volatility_to_scaler(scaler_vol, x_test)\n",
    "y_test_scaled = transform_volatility_to_scaler(scaler_vol, y_test)"
   ]
  },
  {
   "cell_type": "code",
   "execution_count": null,
   "metadata": {
    "colab": {
     "base_uri": "https://localhost:8080/",
     "height": 437
    },
    "id": "bW7ZDRoG-NfP",
    "outputId": "c21d795b-6482-46c7-9b71-b55ba6e35693"
   },
   "outputs": [],
   "source": [
    "# PLOTTING VOLATILITIES AFTER SCALING\n",
    "with sns.axes_style(\"whitegrid\"):\n",
    "    fig, ax = plt.subplots(figsize=(10,6))\n",
    "    sns.distplot(x_train_scaled, norm_hist=True, fit=stats.norm, \n",
    "                 color='gray', \n",
    "                 bins=50, ax=ax, label='Current Volatility')\n",
    "    sns.distplot(y_train_scaled, norm_hist=True, fit=stats.norm,\n",
    "                 color='tab:blue', \n",
    "                 bins=50, ax=ax, label='Target Volatility')\n",
    "    plt.title('Training Volatilities Distribution after Scaling')\n",
    "    plt.legend()\n",
    "    plt.show();"
   ]
  },
  {
   "cell_type": "markdown",
   "metadata": {
    "id": "4kw0orRO2s5g"
   },
   "source": [
    "### 2. Train-Validation-Test Visualization"
   ]
  },
  {
   "cell_type": "code",
   "execution_count": null,
   "metadata": {
    "colab": {
     "base_uri": "https://localhost:8080/",
     "height": 872
    },
    "id": "osNmLsa08hAe",
    "outputId": "5ba13255-f352-41a3-e82a-9397c8d46779",
    "scrolled": false
   },
   "outputs": [],
   "source": [
    "sns.set_context(\"paper\", font_scale=2)\n",
    "\n",
    "# VISUALIZE TRAIN/VALIDATION/TEST vol_future BEFORE & AFTER TRAINING\n",
    "with sns.axes_style(\"whitegrid\"):\n",
    "    fig, (ax1, ax2) = plt.subplots(nrows=2, ncols=1, figsize=(18,14))\n",
    "\n",
    "    ax1.plot(df.vol_current, lw=1, color='gray', ls='--',\n",
    "                label='Current Volatility')\n",
    "    ax1.plot(y_train, color='blue', label='Original Training Target', lw=2)\n",
    "    ax1.plot(y_val, color='orange', label='Original Validation Target', lw=2)\n",
    "    ax1.plot(y_test, color='green', label='Original Test Target', lw=2)\n",
    "\n",
    "    ax1.title.set_text('Target Future Volatility Before Scaling')\n",
    "\n",
    "    ax2.plot(transform_volatility_to_scaler(scaler_vol, df.vol_current), \n",
    "                lw=1, color='gray', ls='--',\n",
    "                label='Scaled Current Volatility')\n",
    "    ax2.plot(y_train_scaled, color='blue', label='Scaled Training Target', lw=2)\n",
    "    ax2.plot(y_val_scaled, color='orange', label='Scaled Validation Target', lw=2)\n",
    "    ax2.plot(y_test_scaled, color='green', label='Scaled Test Target', lw=2)\n",
    "\n",
    "    ax2.title.set_text('Target Future Volatility After Scaling')\n",
    "\n",
    "    ax1.legend(loc='upper left', prop={'size': 13}, frameon=True)\n",
    "    ax2.legend(loc='upper left', prop={'size': 13}, frameon=True)\n",
    "    plt.show();"
   ]
  },
  {
   "cell_type": "code",
   "execution_count": null,
   "metadata": {
    "colab": {
     "base_uri": "https://localhost:8080/",
     "height": 471
    },
    "id": "5lPB4s9X2lk-",
    "outputId": "735d7648-29ab-4cb2-c3fd-00cf2261e84b"
   },
   "outputs": [],
   "source": [
    "sns.set_context(\"paper\", font_scale=1.8)\n",
    "with sns.axes_style(\"darkgrid\"):\n",
    "    plt.figure(figsize=(18,7))\n",
    "\n",
    "    plt.plot(df.log_returns, color='gray', label='Daily Log Returns', alpha=0.4)\n",
    "\n",
    "    plt.plot(y_train_scaled, color='blue', \n",
    "             label='Scaled Training Volatility', lw=1.5)\n",
    "    plt.plot(y_val_scaled, color='red', \n",
    "             label='Scaled Validation Volatility', lw=1.5)\n",
    "    plt.plot(y_test_scaled, color='green', \n",
    "             label='Scaled Test Volatility', lw=1.5)\n",
    "\n",
    "    plt.plot()\n",
    "    plt.title('Training / Validation / Test Splits', fontsize=20)\n",
    "    plt.legend(frameon=True)\n",
    "    plt.show();"
   ]
  },
  {
   "cell_type": "markdown",
   "metadata": {
    "id": "SCaOStAy4Lmk"
   },
   "source": [
    "# MODELING\n",
    "\n",
    "## 1. Performance Metrics"
   ]
  },
  {
   "cell_type": "code",
   "execution_count": null,
   "metadata": {
    "id": "N5qjbV2f7Ywb"
   },
   "outputs": [],
   "source": [
    "def RMSPE(y_true, y_pred):\n",
    "    \"\"\"\n",
    "    Compute Root Mean Squared Percentage Error between 2 arrays\n",
    "    \"\"\"\n",
    "    output = np.sqrt(np.mean(np.square((y_true - y_pred) / y_true)))\n",
    "    return output"
   ]
  },
  {
   "cell_type": "code",
   "execution_count": null,
   "metadata": {
    "id": "MMRX3jDa7bor"
   },
   "outputs": [],
   "source": [
    "def RMSE(y_true, y_pred):\n",
    "    \"\"\"\n",
    "    Compute Root Mean Squared Error between 2 arrays\n",
    "    \"\"\"\n",
    "    output = np.sqrt(mse(y_true, y_pred))\n",
    "    return output"
   ]
  },
  {
   "cell_type": "code",
   "execution_count": null,
   "metadata": {
    "id": "IEMOYQS17bcL"
   },
   "outputs": [],
   "source": [
    "perf_df = pd.DataFrame(columns=['Model', 'Validation RMSPE', 'Validation RMSE'])"
   ]
  },
  {
   "cell_type": "code",
   "execution_count": null,
   "metadata": {
    "id": "qmSFghKh7iF5"
   },
   "outputs": [],
   "source": [
    "def log_perf(y_true, y_pred, model_name):\n",
    "    perf_df.loc[len(perf_df.index)] = [model_name, \n",
    "                                       RMSPE(y_true, y_pred), \n",
    "                                       RMSE(y_true, y_pred)]\n",
    "    return perf_df"
   ]
  },
  {
   "cell_type": "code",
   "execution_count": null,
   "metadata": {
    "id": "3ty13_XU3vOg"
   },
   "outputs": [],
   "source": [
    "def viz_model(y_true, y_pred, model_name):\n",
    "    sns.set_context(\"paper\", font_scale=1.7)\n",
    "    plt.rcParams[\"axes.grid\"] = False\n",
    "\n",
    "    with sns.axes_style(\"whitegrid\"):\n",
    "        plt.figure(figsize=(18,7))\n",
    "        plt.plot(x_val_scaled, color='gray',  ls=':',\n",
    "                label=f\"Scaled Current Daily Volatility\")\n",
    "        \n",
    "        plt.plot(y_true, color='blue', lw=2, \n",
    "                label=f\"Target Volatility\")\n",
    "        plt.plot(y_pred, color='orange', lw=2.5,\n",
    "                label=f'Forecasted Volatility')\n",
    "\n",
    "        plt.title(f'{model_name} \\non Validation Data')\n",
    "        plt.legend(loc='best', frameon=True)"
   ]
  },
  {
   "cell_type": "markdown",
   "metadata": {
    "id": "yHfBHkAA3Nw5"
   },
   "source": [
    "## 2. Baseline Models\n",
    "\n",
    "### 2.1. Mean Baseline"
   ]
  },
  {
   "cell_type": "code",
   "execution_count": null,
   "metadata": {
    "colab": {
     "base_uri": "https://localhost:8080/"
    },
    "id": "8A9qy54y28RU",
    "outputId": "1ea80615-8a16-46aa-a75f-7360057315ea"
   },
   "outputs": [],
   "source": [
    "mean_train_vol = x_train_scaled.mean()\n",
    "mean_train_vol"
   ]
  },
  {
   "cell_type": "code",
   "execution_count": null,
   "metadata": {
    "id": "kWQC2B4z3tPx"
   },
   "outputs": [],
   "source": [
    "baseline_preds = np.ones(len(val_idx)) * mean_train_vol\n",
    "baseline_preds = pd.Series(baseline_preds, index=lr_val.index)"
   ]
  },
  {
   "cell_type": "code",
   "execution_count": null,
   "metadata": {
    "colab": {
     "base_uri": "https://localhost:8080/",
     "height": 491
    },
    "id": "VcRJIPU-31Z3",
    "outputId": "cd3c399c-5b0b-4a85-f00c-412d44e1f3ef"
   },
   "outputs": [],
   "source": [
    "viz_model(y_val_scaled, baseline_preds, \n",
    "          f\"Baseline Model Using Training Data's Average Daily Volatility as Prediction\")\n",
    "plt.show();"
   ]
  },
  {
   "cell_type": "code",
   "execution_count": null,
   "metadata": {
    "colab": {
     "base_uri": "https://localhost:8080/",
     "height": 81
    },
    "id": "jgwt6snG35RG",
    "outputId": "19fb1d81-344a-4f9b-8565-b112fbec7078"
   },
   "outputs": [],
   "source": [
    "log_perf(y_val_scaled, baseline_preds, 'Mean Baseline')"
   ]
  },
  {
   "cell_type": "markdown",
   "metadata": {
    "id": "r69BuemX85lD"
   },
   "source": [
    "## 3. GARCH Models"
   ]
  },
  {
   "cell_type": "markdown",
   "metadata": {
    "id": "L8XGD_JpGHlg"
   },
   "source": [
    "### 3.1. Basic GARCH"
   ]
  },
  {
   "cell_type": "code",
   "execution_count": null,
   "metadata": {
    "colab": {
     "base_uri": "https://localhost:8080/",
     "height": 323
    },
    "id": "xU8vmgU38vxc",
    "outputId": "ef03c2db-b4df-43e1-ff26-90faaebc4580"
   },
   "outputs": [],
   "source": [
    "# VISUALIZE AUTOCORRELATION OF SQUARED RETURNS\n",
    "plot_acf(r_train**2, \n",
    "          title=f'{tckr.upper()} Returns Autocorrelation\\n(Training Set)');"
   ]
  },
  {
   "cell_type": "code",
   "execution_count": null,
   "metadata": {
    "colab": {
     "base_uri": "https://localhost:8080/",
     "height": 323
    },
    "id": "Bpm4OLRY_wc8",
    "outputId": "8bd1220b-952e-4a3e-daa9-bc7049878715"
   },
   "outputs": [],
   "source": [
    "# VISUALIZE PARTIAL AUTOCORRELATION OF SQUARED RETURNS\n",
    "plot_pacf(r_train**2, \n",
    "          title=f'{tckr.upper()} Returns Partial AutoCorrelation\\n(Training Set)');"
   ]
  },
  {
   "cell_type": "code",
   "execution_count": null,
   "metadata": {
    "id": "Fo_FIXqc_zeK"
   },
   "outputs": [],
   "source": [
    "from arch import arch_model"
   ]
  },
  {
   "cell_type": "code",
   "execution_count": null,
   "metadata": {
    "colab": {
     "base_uri": "https://localhost:8080/"
    },
    "id": "CGyYB2VNAIrq",
    "outputId": "5c19171c-a31f-4a8d-f246-b9ed26132e8c"
   },
   "outputs": [],
   "source": [
    "# SET SEED FOR REPRODUCIBILITY\n",
    "np.random.seed(seed)\n",
    "\n",
    "gm_1 = arch_model(r_train, p=7, q=7)\n",
    "result_1 = gm_1.fit(disp='off')\n",
    "print()\n",
    "print(result_1.summary())"
   ]
  },
  {
   "cell_type": "code",
   "execution_count": null,
   "metadata": {
    "colab": {
     "base_uri": "https://localhost:8080/"
    },
    "id": "diyYUWFwALLN",
    "outputId": "28fb27d1-9908-4fed-c4a1-a5d13c04fee7"
   },
   "outputs": [],
   "source": [
    "gm_1 = arch_model(r_train, vol='GARCH', p=1, q=1)\n",
    "result_1 = gm_1.fit(disp='off')\n",
    "print()\n",
    "print(result_1.summary())"
   ]
  },
  {
   "cell_type": "code",
   "execution_count": null,
   "metadata": {
    "id": "QiU0_5tcNhEj"
   },
   "outputs": [],
   "source": [
    "def scale_tf_cond_vol(model_result):\n",
    "    cond_vol = model_result.conditional_volatility\n",
    "\n",
    "    scaler = MinMaxScaler()\n",
    "    scaler = scaler.fit(cond_vol.values.reshape(-1,1))\n",
    "\n",
    "    scaled_cond_vol = transform_volatility_to_scaler(scaler, cond_vol)\n",
    "    return scaler, scaled_cond_vol"
   ]
  },
  {
   "cell_type": "code",
   "execution_count": null,
   "metadata": {
    "id": "YOpRzvIROQIO"
   },
   "outputs": [],
   "source": [
    "scaler_garch, scaled_cond_vol = scale_tf_cond_vol(result_1)"
   ]
  },
  {
   "cell_type": "code",
   "execution_count": null,
   "metadata": {
    "id": "OVd2KL8pTRzY"
   },
   "outputs": [],
   "source": [
    "def viz_cond_vol(cond_vol_series, model_name):\n",
    "    with sns.axes_style(\"darkgrid\"):\n",
    "        fig, ax = plt.subplots(figsize=(18,7))\n",
    "\n",
    "        ax.plot(x_train_scaled, color='blue', lw=2,\n",
    "                label=f'Scaled {INTERVAL_WINDOW}-Day Interval Daily Realized Volatility')\n",
    "        ax.plot(cond_vol_series, color='orange', lw=2,\n",
    "                label=f'Scaled {model_name} Estimated Conditional Volatility')\n",
    "        ax.set_title('Training Set')\n",
    "        plt.legend()\n",
    "        plt.show();"
   ]
  },
  {
   "cell_type": "code",
   "execution_count": null,
   "metadata": {
    "colab": {
     "base_uri": "https://localhost:8080/",
     "height": 474
    },
    "id": "iO4IvvE5T2xl",
    "outputId": "ce54eb8d-2d24-4c75-f7e2-ccf379f9c74f"
   },
   "outputs": [],
   "source": [
    "viz_cond_vol(scaled_cond_vol, 'GARCH(1,1)')"
   ]
  },
  {
   "cell_type": "markdown",
   "metadata": {
    "id": "FCovjgXOBXD_"
   },
   "source": [
    "#### 3.1.1. Analytical-based Forecasting"
   ]
  },
  {
   "cell_type": "code",
   "execution_count": null,
   "metadata": {
    "id": "YdMjziEsBKys"
   },
   "outputs": [],
   "source": [
    "# ONE STEP EXPANDING WINDOW FORECAST\n",
    "# INITIALIZING rolling_forecast\n",
    "rolling_forecasts = []\n",
    "idx = df.index\n",
    "\n",
    "# ITERATE OVER EACH TIME STEP IN THE VALIDATION SET\n",
    "for i in range(len(val_idx)):\n",
    "    # GET THE DATA AT ALL PREVIOUS TIME STEPS\n",
    "    idx = val_idx[i]\n",
    "    train = df.returns[:idx]\n",
    "    \n",
    "    # TRAIN MODEL USING ALL PREVIOUS TIME STEPS' DATA\n",
    "    model = arch_model(train, vol='GARCH', p=1, q=1,\n",
    "                       dist='normal')\n",
    "    model_fit = model.fit(disp='off')\n",
    "\n",
    "    # MAKE PREDICTION n_future DAYS OUT\n",
    "    vaR = model_fit.forecast(horizon=n_future, \n",
    "                             reindex=False).variance.values\n",
    "    # GET THE SQRT OF AVERAGE n_future DAYS VARIANCE\n",
    "    pred = np.sqrt(np.mean(vaR))\n",
    "\n",
    "    # APPEND TO rolling_forecasts LIST\n",
    "    rolling_forecasts.append(pred)\n",
    "\n",
    "gm_1_preds = pd.Series(rolling_forecasts, index=val_idx)"
   ]
  },
  {
   "cell_type": "code",
   "execution_count": null,
   "metadata": {
    "id": "m9eeXBe3DbZf"
   },
   "outputs": [],
   "source": [
    "# TRANSFORM PREDICTIONS USING FITTED SCALER\n",
    "gm_1_preds_scaled = transform_volatility_to_scaler(scaler_garch, gm_1_preds)"
   ]
  },
  {
   "cell_type": "code",
   "execution_count": null,
   "metadata": {
    "colab": {
     "base_uri": "https://localhost:8080/",
     "height": 491
    },
    "id": "lCE1F9SyDi4N",
    "outputId": "201ff20e-db8e-41bb-aebd-563fc75b79c3"
   },
   "outputs": [],
   "source": [
    "# PLOTTING PREDICTIONS VS. TARGET VALUES ON VALIDATION SET\n",
    "viz_model(y_val_scaled, gm_1_preds_scaled, \n",
    "          'Analytical Forecasting GARCH(1,1) Constant Mean Normal Distribution')"
   ]
  },
  {
   "cell_type": "code",
   "execution_count": null,
   "metadata": {
    "colab": {
     "base_uri": "https://localhost:8080/",
     "height": 143
    },
    "id": "J9Uf4-m3DlyF",
    "outputId": "b5855590-4e6a-41a2-f1cd-b3a86baa81b4"
   },
   "outputs": [],
   "source": [
    "# APPEND METRICS OUTPUTS TO perf_df DATAFRAME\n",
    "log_perf(y_val_scaled, gm_1_preds_scaled, \n",
    "         'GARCH(1,1), Constant Mean, Normal Dist')"
   ]
  },
  {
   "cell_type": "code",
   "execution_count": null,
   "metadata": {
    "colab": {
     "base_uri": "https://localhost:8080/",
     "height": 404
    },
    "id": "oqlUujMjD1oL",
    "outputId": "735dff3a-62d2-47ab-a19f-4fb7264e1495"
   },
   "outputs": [],
   "source": [
    "# INSPECTING THE RESIDUALS\n",
    "gm_resid = result_1.resid\n",
    "gm_std = result_1.conditional_volatility\n",
    "\n",
    "# STANDARDIZING RESIDUALS\n",
    "gm_std_resid = gm_resid / gm_std\n",
    "\n",
    "# VISUALIZING STANDARDIZED RESIDUALS VS. A NORMAL DISTRIBUTION\n",
    "with sns.axes_style(\"darkgrid\"):\n",
    "    plt.figure(figsize=(10,6))\n",
    "    sns.distplot(gm_std_resid, norm_hist=True, fit=stats.norm, bins=50)\n",
    "    plt.legend(('Normal Distribution', 'Standardized Residuals'))\n",
    "    plt.show();"
   ]
  },
  {
   "cell_type": "markdown",
   "metadata": {
    "id": "PT1q_sPmGa79"
   },
   "source": [
    "### 3.2. GARCH Model with Asymmetric Shocks Responses"
   ]
  },
  {
   "cell_type": "code",
   "execution_count": null,
   "metadata": {
    "colab": {
     "base_uri": "https://localhost:8080/"
    },
    "id": "xKJjLWh5EFDC",
    "outputId": "ea2b6897-35f2-4544-e251-af7df3442615"
   },
   "outputs": [],
   "source": [
    "# SET SEED FOR REPRODUCIBILITY\n",
    "np.random.seed(seed)\n",
    "\n",
    "gjr_gm = arch_model(r_train, p=1, q=1, o=1, \n",
    "                    vol='GARCH', dist='skewt')\n",
    "result_2 = gjr_gm.fit(disp='off')\n",
    "print(result_2.summary())"
   ]
  },
  {
   "cell_type": "code",
   "execution_count": null,
   "metadata": {
    "id": "EP4S1i4lPO1g"
   },
   "outputs": [],
   "source": [
    "# GET VOLATILITY SCALER & SCALED CONDITIONAL VOLATILITY FROM MODEL RESULT\n",
    "scaler_gjr, scaled_gjr_cond_vol = scale_tf_cond_vol(result_2)"
   ]
  },
  {
   "cell_type": "code",
   "execution_count": null,
   "metadata": {
    "colab": {
     "base_uri": "https://localhost:8080/",
     "height": 474
    },
    "id": "7CbzjbaVG0To",
    "outputId": "5cba8d62-8873-45f9-a554-b4dd36a76e34"
   },
   "outputs": [],
   "source": [
    "viz_cond_vol(scaled_gjr_cond_vol, 'GJR-GARCH(1,1)')"
   ]
  },
  {
   "cell_type": "code",
   "execution_count": null,
   "metadata": {
    "id": "xR0_fb2hG2K4"
   },
   "outputs": [],
   "source": [
    "# ROLLING WINDOW FORECAST\n",
    "# INITIALIZING rolling_forecasts VALUES LIST\n",
    "rolling_forecasts = []\n",
    "\n",
    "# ITERATE OVER EACH TIME STEP IN THE VALIDATION SET\n",
    "for i in range(len(val_idx)):\n",
    "    # GET THE DATA AT ALL PREVIOUS TIME STEPS\n",
    "    idx = val_idx[i]\n",
    "    train = df.returns[:idx].dropna()\n",
    "\n",
    "    # TRAIN MODEL USING ALL PREVIOUS TIME STEPS' DATA\n",
    "    model = arch_model(train, p=1, q=1, o=1, \n",
    "                       vol='GARCH', dist='skewt')\n",
    "    model_fit = model.fit(disp='off')\n",
    "\n",
    "    # MAKE PREDICTION n_future DAYS OUT\n",
    "    vaR = model_fit.forecast(horizon=n_future, \n",
    "                             reindex=False).variance.values\n",
    "    pred = np.sqrt(np.mean(vaR))\n",
    "\n",
    "    # APPEND TO rolling_forecasts LIST\n",
    "    rolling_forecasts.append(pred)\n",
    "\n",
    "gjr_1_preds = pd.DataFrame(rolling_forecasts, index=val_idx)"
   ]
  },
  {
   "cell_type": "code",
   "execution_count": null,
   "metadata": {
    "id": "bOXVVgEtG_fv"
   },
   "outputs": [],
   "source": [
    "# TRANSFORM PREDICTIONS USING FITTED SCALER\n",
    "gjr_1_preds_scaled = transform_volatility_to_scaler(scaler_gjr, gjr_1_preds)"
   ]
  },
  {
   "cell_type": "code",
   "execution_count": null,
   "metadata": {
    "colab": {
     "base_uri": "https://localhost:8080/",
     "height": 491
    },
    "id": "WE2CIbUWHR8F",
    "outputId": "55ebe3cc-fe43-40ce-97ed-a2701df89ce7"
   },
   "outputs": [],
   "source": [
    "# PLOTTING PREDICTIONS VS. TARGET VALUES ON VALIDATION SET\n",
    "viz_model(y_val_scaled, gjr_1_preds_scaled, \n",
    "          \"Analytical Forecasting GJR-GARCH(1,1,1) with Constant Mean Skewed Student's T Distribution\")"
   ]
  },
  {
   "cell_type": "code",
   "execution_count": null,
   "metadata": {
    "colab": {
     "base_uri": "https://localhost:8080/",
     "height": 175
    },
    "id": "Q6-V0aTNHZQc",
    "outputId": "f8e0b6de-c170-4060-cf08-3356f07417b7"
   },
   "outputs": [],
   "source": [
    "# APPEND METRICS OUTPUTS TO perf_df DATAFRAME\n",
    "log_perf(y_val_scaled, gjr_1_preds_scaled, \n",
    "         \"Analytical GJR-GARCH(1,1,1), Constant Mean, Skewt Dist\")"
   ]
  },
  {
   "cell_type": "markdown",
   "metadata": {
    "id": "3DFyEwpYikPG"
   },
   "source": [
    "## 4. Neural Networks"
   ]
  },
  {
   "cell_type": "code",
   "execution_count": null,
   "metadata": {
    "id": "nV19U-L0iLC7"
   },
   "outputs": [],
   "source": [
    "import tensorflow as tf\n",
    "from tensorflow.keras.callbacks import ModelCheckpoint, EarlyStopping\n",
    "from tensorflow.keras import backend as K\n",
    "from decimal import Decimal"
   ]
  },
  {
   "cell_type": "code",
   "execution_count": null,
   "metadata": {
    "id": "4MYQQCwoqaz7"
   },
   "outputs": [],
   "source": [
    "# CONVERT AN SERIES TO MATRIX DATASET\n",
    "def windowed_dataset(x_series, y_series, lookback_window):\n",
    "    dataX, dataY = [], []\n",
    "    for i in range((lookback_window-1), len(x_series)):\n",
    "        start_idx = x_series.index[i-lookback_window+1]\n",
    "        end_idx = x_series.index[i]\n",
    "        a = x_series[start_idx:end_idx].values\n",
    "        dataX.append(a)\n",
    "        dataY.append(y_series[end_idx])\n",
    "\n",
    "    return np.array(dataX), np.array(dataY)"
   ]
  },
  {
   "cell_type": "code",
   "execution_count": null,
   "metadata": {
    "id": "-aZeDVANqjrd"
   },
   "outputs": [],
   "source": [
    "def rmspe(y_true, y_pred):\n",
    "    loss = K.sqrt(K.mean(K.square((y_true - y_pred) / y_true)))\n",
    "\n",
    "    return loss"
   ]
  },
  {
   "cell_type": "code",
   "execution_count": null,
   "metadata": {
    "id": "j7DNnvj23DTh"
   },
   "outputs": [],
   "source": [
    "def forecast(model, range_idx):\n",
    "    start_idx = range_idx[0] - timedelta(n_past - 1)\n",
    "    end_idx = range_idx[-1]\n",
    "    mat_X, _ = windowed_dataset(df.vol_current[start_idx:end_idx], \n",
    "                                df.vol_future[range_idx], n_past)\n",
    "    preds = pd.Series(model.predict(mat_X)[:, 0],\n",
    "                      index=range_idx)\n",
    "\n",
    "    return preds"
   ]
  },
  {
   "cell_type": "code",
   "execution_count": null,
   "metadata": {
    "id": "mK87X2-wcWQo"
   },
   "outputs": [],
   "source": [
    "def scale(scaler, y_series):\n",
    "    scaled = pd.Series(scaler.transform(y_series.values.reshape(-1,1))[:, 0],\n",
    "                       index=y_series.index)\n",
    "    return scaled"
   ]
  },
  {
   "cell_type": "code",
   "execution_count": null,
   "metadata": {
    "id": "Fn1kXFmnqocD"
   },
   "outputs": [],
   "source": [
    "def viz_train_val_metrics(model_hist):\n",
    "    with sns.axes_style(\"white\"):\n",
    "        fig, ax = plt.subplots(figsize=(15,6))\n",
    "\n",
    "        # PLOT MSE - LEFT Y-AXIS\n",
    "        # TRAINING\n",
    "        ln11 = ax.plot(range(len(model_hist.history['loss'])), \n",
    "                    model_hist.history['loss'], color='lightblue',\n",
    "                    label='Training MSE', lw=2)\n",
    "        # VALIDATION\n",
    "        ln12 = ax.plot(range(len(model_hist.history['loss'])),\n",
    "                    model_hist.history['val_loss'], color='darkblue',\n",
    "                    label='Validation MSE', lw=2)\n",
    "        ax.set_xlabel('Epoch')\n",
    "        ax.set_ylabel('MSE')\n",
    "\n",
    "        # PLOT RMSE - RIGHT Y-AXIS\n",
    "        ax2 = ax.twinx()\n",
    "        ln21 = ax2.plot(range(len(model_hist.history['loss'])), \n",
    "                    model_hist.history['rmspe'], color='pink', lw=2,\n",
    "                    label='Training RMSPE')\n",
    "        ln22 = ax2.plot(range(len(model_hist.history['loss'])), \n",
    "                    model_hist.history['val_rmspe'], color='red', lw=2,\n",
    "                    label='Validation RMSPE')\n",
    "        ax2.set_ylabel('RMSPE')\n",
    "\n",
    "        # COMBINING LALBELS FOR 4 LINES INTO 1 LEGEND\n",
    "        lns = ln11 + ln12 + ln21 + ln22\n",
    "        labs = [l.get_label() for l in lns]\n",
    "        ax.legend(lns, labs, loc='best')\n",
    "\n",
    "        ax.set_title('Training vs. Validation Learning Curves')\n",
    "        plt.show();"
   ]
  },
  {
   "cell_type": "markdown",
   "metadata": {
    "id": "hNOP4up4ERH1"
   },
   "source": [
    "### 4.1. Multivariate LSTM"
   ]
  },
  {
   "cell_type": "code",
   "execution_count": null,
   "metadata": {
    "colab": {
     "base_uri": "https://localhost:8080/",
     "height": 238
    },
    "id": "6qp23qWuELMu",
    "outputId": "671675af-9e1b-4c85-a4a5-c185328852a5"
   },
   "outputs": [],
   "source": [
    "df.head()"
   ]
  },
  {
   "cell_type": "code",
   "execution_count": null,
   "metadata": {
    "colab": {
     "base_uri": "https://localhost:8080/"
    },
    "id": "z5KRwtRsEm3v",
    "outputId": "c9f731f6-3aa9-459f-cd14-3bda049dc769"
   },
   "outputs": [],
   "source": [
    "df.info()"
   ]
  },
  {
   "cell_type": "code",
   "execution_count": null,
   "metadata": {
    "colab": {
     "base_uri": "https://localhost:8080/",
     "height": 300
    },
    "id": "m20FNHUWEo4_",
    "outputId": "eebac712-c79d-4d7c-977e-421739599d95"
   },
   "outputs": [],
   "source": [
    "df.describe()"
   ]
  },
  {
   "cell_type": "markdown",
   "metadata": {
    "id": "0sCDu-x1EvYe"
   },
   "source": [
    "#### 4.1.1. Feature Engineering"
   ]
  },
  {
   "cell_type": "code",
   "execution_count": null,
   "metadata": {
    "id": "2_O-_MP1ErpX"
   },
   "outputs": [],
   "source": [
    "df['HL_sprd'] = np.log((df.High - df.Low) / df.Close)\n",
    "df['CO_sprd'] = (df.Close - df.Open) / df.Open\n",
    "df['Volume'] = np.log(df.Volume)"
   ]
  },
  {
   "cell_type": "code",
   "execution_count": null,
   "metadata": {
    "colab": {
     "base_uri": "https://localhost:8080/",
     "height": 238
    },
    "id": "MnaBx5MLFEPl",
    "outputId": "9d84fcdf-f47d-424a-e59b-b49eb7a2f576"
   },
   "outputs": [],
   "source": [
    "df.head()"
   ]
  },
  {
   "cell_type": "code",
   "execution_count": null,
   "metadata": {
    "id": "kP2yAr8eIjhS"
   },
   "outputs": [],
   "source": [
    "features = ['HL_sprd', 'CO_sprd', 'Volume', 'vol_current']"
   ]
  },
  {
   "cell_type": "code",
   "execution_count": null,
   "metadata": {
    "colab": {
     "base_uri": "https://localhost:8080/",
     "height": 1000
    },
    "id": "2km1x_6JJv0j",
    "outputId": "7641435b-6a20-416a-c863-f11e86c01069"
   },
   "outputs": [],
   "source": [
    "# PLOT EACH NUMERICAL COLUMN\n",
    "with sns.axes_style(\"darkgrid\"):\n",
    "    fig, axes = plt.subplots(nrows=4, ncols=2, figsize=(15,20))\n",
    "\n",
    "    for i, c in enumerate(features):\n",
    "        ax1, ax2 = axes[i][0], axes[i][1]\n",
    "        ax1.plot(df[c])\n",
    "        ax1.set_title(c)\n",
    "\n",
    "        sns.distplot(df[c], ax=ax2)\n",
    "\n",
    "    plt.tight_layout()\n",
    "    plt.show();"
   ]
  },
  {
   "cell_type": "markdown",
   "metadata": {
    "id": "xv3NE2BtKVF-"
   },
   "source": [
    "#### 4.1.2. Input Reshaping"
   ]
  },
  {
   "cell_type": "code",
   "execution_count": null,
   "metadata": {
    "id": "P21xVomtbHG6"
   },
   "outputs": [],
   "source": [
    "# SEPARATE INPUT DATAFRAME FROM df\n",
    "input_df = df[features]\n",
    "\n",
    "# SEPARATE INPUTS FOR TRAINING SET ONLY\n",
    "X_train = input_df.loc[train_idx]"
   ]
  },
  {
   "cell_type": "code",
   "execution_count": null,
   "metadata": {
    "colab": {
     "base_uri": "https://localhost:8080/",
     "height": 238
    },
    "id": "Tp5Mf7Nhcb5T",
    "outputId": "efe3e8fd-e795-4477-f912-6f0f2d64acfe"
   },
   "outputs": [],
   "source": [
    "X_train.head()"
   ]
  },
  {
   "cell_type": "code",
   "execution_count": null,
   "metadata": {
    "colab": {
     "base_uri": "https://localhost:8080/",
     "height": 238
    },
    "id": "-lezXDG620C8",
    "outputId": "dccb93bf-4426-4e17-d3cc-abb6d4ed7396"
   },
   "outputs": [],
   "source": [
    "input_df.head()"
   ]
  },
  {
   "cell_type": "code",
   "execution_count": null,
   "metadata": {
    "colab": {
     "base_uri": "https://localhost:8080/"
    },
    "id": "TMlfpWWAcko_",
    "outputId": "492a7ff5-54b9-4b13-bf84-efbf1248e16a"
   },
   "outputs": [],
   "source": [
    "X_train.info()"
   ]
  },
  {
   "cell_type": "code",
   "execution_count": null,
   "metadata": {
    "colab": {
     "base_uri": "https://localhost:8080/"
    },
    "id": "LlcJI8JTcimX",
    "outputId": "9624cd3e-a4ea-464b-b6cc-50b2523d6e36"
   },
   "outputs": [],
   "source": [
    "input_df.info()"
   ]
  },
  {
   "cell_type": "code",
   "execution_count": null,
   "metadata": {
    "id": "fgaRjkn3bDgt"
   },
   "outputs": [],
   "source": [
    "def forecast_multi(model, range_idx):\n",
    "    start_idx = range_idx[0] - timedelta(n_past - 1)\n",
    "    end_idx = range_idx[-1]\n",
    "    mat_X, _ = windowed_dataset(input_df[start_idx:end_idx], \n",
    "                                df.vol_future[range_idx], n_past)\n",
    "    preds = pd.Series(model.predict(mat_X)[:, 0],\n",
    "                      index=range_idx)\n",
    "\n",
    "    return preds"
   ]
  },
  {
   "cell_type": "markdown",
   "metadata": {
    "id": "AagcQma1P5Ap"
   },
   "source": [
    "### 4.2. Multivariate 2-Layered Bidirectional LSTM with Dropout"
   ]
  },
  {
   "cell_type": "code",
   "execution_count": null,
   "metadata": {
    "colab": {
     "base_uri": "https://localhost:8080/"
    },
    "id": "iEH1Qo_jPt1n",
    "outputId": "f28e907a-ce10-4fe5-caed-2fec93c8c96b"
   },
   "outputs": [],
   "source": [
    "tf.keras.backend.clear_session()\n",
    "\n",
    "# SET SEED FOR REPRODUCIBILITY\n",
    "np.random.seed(seed)\n",
    "\n",
    "n_past = 30\n",
    "batch_size = 64\n",
    "n_dims = input_df.shape[1]\n",
    "\n",
    "mat_X_train, mat_y_train = windowed_dataset(X_train, y_train, n_past)\n",
    "\n",
    "# CONSTRUCTING MULTIVARIATE BIDIRECTIONAL LSTM NN\n",
    "lstm_1 = tf.keras.models.Sequential([ \n",
    "    tf.keras.layers.InputLayer(input_shape=[n_past, n_dims]),\n",
    "    # BATCH NORMALIZATION\n",
    "    tf.keras.layers.BatchNormalization(), \n",
    "\n",
    "    # ADDING 1st LSTM LAYER\n",
    "    tf.keras.layers.Bidirectional(tf.keras.layers.LSTM(32, return_sequences=True)),\n",
    "    tf.keras.layers.Dropout(0.1),\n",
    "\n",
    "    # ADDING 2nd LSTM LAYER\n",
    "    tf.keras.layers.Bidirectional(tf.keras.layers.LSTM(16)),\n",
    "    tf.keras.layers.Dropout(0.1),\n",
    "\n",
    "    # DENSE OUTPUT LAYER\n",
    "    tf.keras.layers.Dense(1)\n",
    "])\n",
    "\n",
    "lstm_1.compile(loss='mse', \n",
    "               optimizer=\"adam\", \n",
    "               metrics=[rmspe])\n",
    "\n",
    "checkpoint_cb = ModelCheckpoint('lstm_1.h5',\n",
    "                                save_best_only=True,\n",
    "                                monitor='val_rmspe')\n",
    "\n",
    "# STOPPING THE TRAINING IF VALIDATION RMSPE IS NOT IMPROVING \n",
    "early_stopping_cb = EarlyStopping(patience=30,\n",
    "                                  restore_best_weights=True,\n",
    "                                  monitor='val_rmspe')\n",
    "\n",
    "print(lstm_1.summary())"
   ]
  },
  {
   "cell_type": "code",
   "execution_count": null,
   "metadata": {
    "id": "IK4wO-X2c9LE"
   },
   "outputs": [],
   "source": [
    "# FITTING TO TRAINING DATA\n",
    "lstm_1_res = lstm_1.fit(mat_X_train, mat_y_train, \n",
    "                        callbacks=[checkpoint_cb, early_stopping_cb],\n",
    "                        validation_split=0.2, shuffle=True,\n",
    "                        verbose=0, batch_size=batch_size, epochs=200)"
   ]
  },
  {
   "cell_type": "code",
   "execution_count": null,
   "metadata": {
    "colab": {
     "base_uri": "https://localhost:8080/",
     "height": 441
    },
    "id": "k8BVtZoNQfsT",
    "outputId": "8e34c2a7-365d-4198-da41-1b070d61fb85"
   },
   "outputs": [],
   "source": [
    "# VISUALIZING LEARNING CURVES\n",
    "viz_train_val_metrics(lstm_1_res)"
   ]
  },
  {
   "cell_type": "code",
   "execution_count": null,
   "metadata": {
    "id": "fUA61x4lU0kx"
   },
   "outputs": [],
   "source": [
    "# FORECASTING ON VALIDATION SET\n",
    "lstm_1_preds = forecast_multi(lstm_1, val_idx)\n",
    "\n",
    "# SCALING OUTPUT TO MINMAXSCALER FITTED TO TRAINING CURRENT VOLUME\n",
    "lstm_1_preds_scaled = scale(scaler_vol, lstm_1_preds)"
   ]
  },
  {
   "cell_type": "code",
   "execution_count": null,
   "metadata": {
    "colab": {
     "base_uri": "https://localhost:8080/",
     "height": 491
    },
    "id": "MPHMuY8KVFEu",
    "outputId": "561a21c9-eb31-4f99-e38a-0366aa9e3238"
   },
   "outputs": [],
   "source": [
    "# PLOTTING PREDICTIONS VS. TARGET VALUES ON VALIDATION SET\n",
    "viz_model(y_val_scaled, lstm_1_preds_scaled, \n",
    "          f\"Multivariate 2 Bidirect LSTM layers (32/16 units), {n_past} days look back\")\n",
    "plt.show()"
   ]
  },
  {
   "cell_type": "code",
   "execution_count": null,
   "metadata": {
    "colab": {
     "base_uri": "https://localhost:8080/",
     "height": 457
    },
    "id": "x3ulsk4aVQjY",
    "outputId": "745fd966-164c-4a94-ea7f-6183ecec342e"
   },
   "outputs": [],
   "source": [
    "# APPEND METRICS OUTPUTS TO perf_df DATAFRAME\n",
    "log_perf(y_val_scaled, lstm_1_preds_scaled,\n",
    "         f\"Multivariate Bidirect LSTM 2 layers (32/16 units), n_past={n_past}\")"
   ]
  },
  {
   "cell_type": "markdown",
   "metadata": {
    "id": "AQC4pzX_YZ9s"
   },
   "source": [
    "### 4.3. Multivariate 3-Layered Bidirectional LSTM"
   ]
  },
  {
   "cell_type": "code",
   "execution_count": null,
   "metadata": {
    "colab": {
     "base_uri": "https://localhost:8080/"
    },
    "id": "2Tu2aFrGWyG2",
    "outputId": "a54f3eca-8976-4346-a6b0-6b0a14b3cfff"
   },
   "outputs": [],
   "source": [
    "tf.keras.backend.clear_session()\n",
    "\n",
    "# SET SEED FOR REPRODUCIBILITY\n",
    "np.random.seed(seed)\n",
    "\n",
    "n_past = 30\n",
    "batch_size = 64\n",
    "n_dims = input_df.shape[1]\n",
    "\n",
    "mat_X_train, mat_y_train = windowed_dataset(X_train, y_train, n_past)\n",
    "\n",
    "# CONSTRUCTING MULTIVARIATE BIDIRECTIONAL LSTM NN\n",
    "lstm_2 = tf.keras.models.Sequential([  \n",
    "    tf.keras.layers.InputLayer(input_shape=[n_past, n_dims]),\n",
    "    # normalize,\n",
    "    # BATCH NORMALIZATION\n",
    "    tf.keras.layers.BatchNormalization(), \n",
    "    \n",
    "    # ADDING 1st LSTM LAYER\n",
    "    tf.keras.layers.Bidirectional(tf.keras.layers.LSTM(64, return_sequences=True)),\n",
    "    tf.keras.layers.Dropout(0.1),\n",
    "\n",
    "    # ADDING 2nd LSTM LAYER\n",
    "    tf.keras.layers.Bidirectional(tf.keras.layers.LSTM(32, return_sequences=True)),\n",
    "    tf.keras.layers.Dropout(0.1),\n",
    "\n",
    "    # ADDING 3rd LSTM LAYER\n",
    "    tf.keras.layers.Bidirectional(tf.keras.layers.LSTM(16)),\n",
    "    tf.keras.layers.Dropout(0.1),\n",
    "    \n",
    "    # DENSE OUTPUT LAYER\n",
    "    tf.keras.layers.Dense(1)\n",
    "])\n",
    "\n",
    "lstm_2.compile(loss='mse', \n",
    "               optimizer=\"adam\", \n",
    "               metrics=[rmspe])\n",
    "\n",
    "checkpoint_cb = ModelCheckpoint('lstm_6.h5',\n",
    "                                save_best_only=True,\n",
    "                                monitor='val_rmspe')\n",
    "\n",
    "# STOPPING THE TRAINING IF VALIDATION RMSPE IS NOT IMPROVING \n",
    "early_stopping_cb = EarlyStopping(patience=30,\n",
    "                                  restore_best_weights=True,\n",
    "                                  monitor='val_rmspe')\n",
    "\n",
    "print(lstm_2.summary())"
   ]
  },
  {
   "cell_type": "code",
   "execution_count": null,
   "metadata": {
    "id": "0ZvSt_acePTJ"
   },
   "outputs": [],
   "source": [
    "lstm_2_res = lstm_2.fit(mat_X_train, mat_y_train, epochs=200,\n",
    "                        callbacks=[checkpoint_cb, early_stopping_cb],\n",
    "                        validation_split=0.2,\n",
    "                        verbose=0, batch_size=batch_size, shuffle=True)"
   ]
  },
  {
   "cell_type": "code",
   "execution_count": null,
   "metadata": {
    "colab": {
     "base_uri": "https://localhost:8080/",
     "height": 441
    },
    "id": "5Vlt6KNIYlO_",
    "outputId": "bbccfe53-d175-4d9d-c4fe-d0a1f9c85032"
   },
   "outputs": [],
   "source": [
    "# VISUALIZING LEARNING CURVES\n",
    "viz_train_val_metrics(lstm_2_res)"
   ]
  },
  {
   "cell_type": "code",
   "execution_count": null,
   "metadata": {
    "id": "F9uD-oizZFe4"
   },
   "outputs": [],
   "source": [
    "# FORECASTING ON VALIDATION SET\n",
    "lstm_2_preds = forecast_multi(lstm_2, val_idx)\n",
    "\n",
    "# SCALING OUTPUT TO MINMAXSCALER FITTED TO TRAINING CURRENT VOLUME\n",
    "lstm_2_preds_scaled = scale(scaler_vol, lstm_2_preds)"
   ]
  },
  {
   "cell_type": "code",
   "execution_count": null,
   "metadata": {
    "colab": {
     "base_uri": "https://localhost:8080/",
     "height": 491
    },
    "id": "dOq3nEWTZKoI",
    "outputId": "fa748dbb-cda8-4637-c812-276f34003e91"
   },
   "outputs": [],
   "source": [
    "# PLOTTING PREDICTIONS VS. TARGET VALUES ON VALIDATION SET\n",
    "viz_model(y_val_scaled, lstm_2_preds_scaled, \n",
    "          f\"Multivariate 3 Bidirect LSTM layers (64/32/16 units), {n_past} days look back\")\n",
    "plt.show()"
   ]
  },
  {
   "cell_type": "code",
   "execution_count": null,
   "metadata": {
    "colab": {
     "base_uri": "https://localhost:8080/",
     "height": 488
    },
    "id": "dLoSdYN4ZUyg",
    "outputId": "2a98b595-145c-4fe2-8fdf-53198abc939e"
   },
   "outputs": [],
   "source": [
    "# APPEND METRICS OUTPUTS TO perf_df DATAFRAME\n",
    "log_perf(y_val_scaled, lstm_2_preds_scaled,\n",
    "         f\"Multivariate Bidirect LSTM 3 layers (64/32/16 units), n_past={n_past}\")"
   ]
  },
  {
   "cell_type": "markdown",
   "metadata": {
    "id": "tV8YLUZ7ZxiN"
   },
   "source": [
    "### 4.4. Multivariate 4-Layered Bidirectional LSTM"
   ]
  },
  {
   "cell_type": "code",
   "execution_count": null,
   "metadata": {
    "colab": {
     "base_uri": "https://localhost:8080/"
    },
    "id": "VUFs0zJnZfyN",
    "outputId": "d05c7aaa-50d7-4f40-aa2a-9a21e2c42145"
   },
   "outputs": [],
   "source": [
    "tf.keras.backend.clear_session()\n",
    "\n",
    "# SET SEED FOR REPRODUCIBILITY\n",
    "np.random.seed(seed)\n",
    "\n",
    "n_past = 30\n",
    "batch_size = 64\n",
    "n_dims = input_df.shape[1]\n",
    "\n",
    "mat_X_train, mat_y_train = windowed_dataset(X_train, y_train, n_past)\n",
    "\n",
    "# CONSTRUCTING MULTIVARIATE BIDIRECTIONAL LSTM NN\n",
    "lstm_3 = tf.keras.models.Sequential([  \n",
    "    tf.keras.layers.InputLayer(input_shape=[n_past, n_dims]),\n",
    "    # BATCH NORMALIZATION  \n",
    "    tf.keras.layers.BatchNormalization(), \n",
    "\n",
    "    # ADDING 1st LSTM LAYER\n",
    "    tf.keras.layers.Bidirectional(tf.keras.layers.LSTM(128, return_sequences=True)),\n",
    "    tf.keras.layers.Dropout(0.1),\n",
    "    # ADDING 2nd LSTM LAYER\n",
    "    tf.keras.layers.Bidirectional(tf.keras.layers.LSTM(64, return_sequences=True)),\n",
    "    tf.keras.layers.Dropout(0.1),\n",
    "    # ADDING 3rd LSTM LAYER\n",
    "    tf.keras.layers.Bidirectional(tf.keras.layers.LSTM(32, return_sequences=True)),\n",
    "    tf.keras.layers.Dropout(0.1),\n",
    "    # ADDING 4th LSTM LAYER\n",
    "    tf.keras.layers.Bidirectional(tf.keras.layers.LSTM(16)),\n",
    "    tf.keras.layers.Dropout(0.1),\n",
    "\n",
    "    # DENSE OUTPUT LAYER\n",
    "    tf.keras.layers.Dense(1)\n",
    "])\n",
    "\n",
    "lstm_3.compile(loss='mse', \n",
    "               optimizer=\"adam\", \n",
    "               metrics=[rmspe])\n",
    "\n",
    "checkpoint_cb = ModelCheckpoint('lstm_7.h5',\n",
    "                                save_best_only=True,\n",
    "                                monitor='val_rmspe')\n",
    "\n",
    "# STOPPING THE TRAINING IF VALIDATION RMSPE IS NOT IMPROVING \n",
    "early_stopping_cb = EarlyStopping(patience=30,\n",
    "                                  restore_best_weights=True,\n",
    "                                  monitor='val_rmspe')\n",
    "\n",
    "print(lstm_3.summary())"
   ]
  },
  {
   "cell_type": "code",
   "execution_count": null,
   "metadata": {
    "id": "OYua0uCrfduR"
   },
   "outputs": [],
   "source": [
    "# FITTING TO TRAINING DATA\n",
    "lstm_3_res = lstm_3.fit(mat_X_train, mat_y_train, epochs=200,\n",
    "                        callbacks=[checkpoint_cb, early_stopping_cb],\n",
    "                        validation_split=0.2,\n",
    "                        verbose=0, batch_size=batch_size, shuffle=True)"
   ]
  },
  {
   "cell_type": "code",
   "execution_count": null,
   "metadata": {
    "colab": {
     "base_uri": "https://localhost:8080/",
     "height": 441
    },
    "id": "Aws-XSJnae5V",
    "outputId": "150a8213-87c0-4853-d4bd-4240af31d7a3"
   },
   "outputs": [],
   "source": [
    "# VISUALIZING LEARNING CURVES\n",
    "viz_train_val_metrics(lstm_3_res)"
   ]
  },
  {
   "cell_type": "code",
   "execution_count": null,
   "metadata": {
    "id": "YA6mHsFybJNV"
   },
   "outputs": [],
   "source": [
    "# FORECASTING ON VALIDATION SET\n",
    "lstm_3_preds = forecast_multi(lstm_3, val_idx)\n",
    "\n",
    "# SCALING OUTPUT TO MINMAXSCALER FITTED TO TRAINING CURRENT VOLUME\n",
    "lstm_3_preds_scaled = scale(scaler_vol, lstm_3_preds)"
   ]
  },
  {
   "cell_type": "code",
   "execution_count": null,
   "metadata": {
    "colab": {
     "base_uri": "https://localhost:8080/",
     "height": 491
    },
    "id": "Q8ewcGnQbUyC",
    "outputId": "0768f101-e556-4e64-c09e-49dd55453485"
   },
   "outputs": [],
   "source": [
    "# PLOTTING PREDICTIONS VS. TARGET VALUES ON VALIDATION SET\n",
    "viz_model(y_val_scaled, lstm_3_preds_scaled, \n",
    "          f\"Multivariate 4 Bidirect LSTM layers (128/64/32/16 units), {n_past} days look back\")\n",
    "plt.show();"
   ]
  },
  {
   "cell_type": "code",
   "execution_count": null,
   "metadata": {
    "colab": {
     "base_uri": "https://localhost:8080/",
     "height": 520
    },
    "id": "8L-b6zewbdTD",
    "outputId": "de2be367-a9d2-4e63-9a2a-86895848be79"
   },
   "outputs": [],
   "source": [
    "# APPEND METRICS OUTPUTS TO perf_df DATAFRAME\n",
    "log_perf(y_val_scaled, lstm_3_preds_scaled, \n",
    "         f\"Multivariate 4 Bidirect LSTM layers (128/64/32/16 units), n_past={n_past}, batch={batch_size}\")"
   ]
  },
  {
   "cell_type": "markdown",
   "metadata": {
    "id": "yftHcjwOd84E"
   },
   "source": [
    "## **Final Model**"
   ]
  },
  {
   "cell_type": "code",
   "execution_count": null,
   "metadata": {
    "colab": {
     "base_uri": "https://localhost:8080/",
     "height": 551
    },
    "id": "zWzDfgp0zVvs",
    "outputId": "347e6af3-36bc-4d59-e831-7a4e047df7c0"
   },
   "outputs": [],
   "source": [
    "perf_df.sort_values(by='Validation RMSPE', ascending=True)"
   ]
  },
  {
   "cell_type": "code",
   "execution_count": null,
   "metadata": {
    "id": "WqJoMc-KB_es"
   },
   "outputs": [],
   "source": [
    "# CREATE DATASET THAT COMBINES BOTH TRAINING & VALIDATION\n",
    "tv_df = input_df[:split_time_2]\n",
    "tv_y = df.vol_future[:split_time_2]"
   ]
  },
  {
   "cell_type": "code",
   "execution_count": null,
   "metadata": {
    "colab": {
     "base_uri": "https://localhost:8080/"
    },
    "id": "6OHeAC8RcrKc",
    "outputId": "49600148-9ca3-41f7-f9a7-c4f40fb50089"
   },
   "outputs": [],
   "source": [
    "tf.keras.backend.clear_session()\n",
    "\n",
    "# SET SEED FOR REPRODUCIBILITY\n",
    "np.random.seed(seed)\n",
    "\n",
    "n_past = 30\n",
    "batch_size = 64\n",
    "n_dims = input_df.shape[1]\n",
    "\n",
    "mat_X_tv, mat_y_tv = windowed_dataset(tv_df, tv_y, n_past)\n",
    "\n",
    "# CONSTRUCTING MULTIVARIATE BIDIRECTIONAL LSTM NN\n",
    "lstm_final = tf.keras.models.Sequential([  \n",
    "    tf.keras.layers.InputLayer(input_shape=[n_past, n_dims]),   \n",
    "    # BATCH NORMALIZATION  \n",
    "    tf.keras.layers.BatchNormalization(), \n",
    "\n",
    "    # ADDING 1st LSTM LAYER\n",
    "    tf.keras.layers.Bidirectional(tf.keras.layers.LSTM(32, return_sequences=True)),\n",
    "    tf.keras.layers.Dropout(0.1),\n",
    "    \n",
    "    # ADDING 2nd LSTM LAYER\n",
    "    tf.keras.layers.Bidirectional(tf.keras.layers.LSTM(16)),\n",
    "    tf.keras.layers.Dropout(0.1),\n",
    "\n",
    "    # DENSE OUTPUT LAYER\n",
    "    tf.keras.layers.Dense(1)\n",
    "])\n",
    "\n",
    "lstm_final.compile(loss='mse', \n",
    "                    optimizer=\"adam\", \n",
    "                    metrics=[rmspe])\n",
    "\n",
    "checkpoint_cb = ModelCheckpoint('lstm_final.h5',\n",
    "                                save_best_only=True,\n",
    "                                monitor='val_rmspe')\n",
    "\n",
    "# STOPPING THE TRAINING IF VALIDATION RMSPE IS NOT IMPROVING \n",
    "early_stopping_cb = EarlyStopping(patience=30,\n",
    "                                  restore_best_weights=True,\n",
    "                                  monitor='val_rmspe')\n",
    "\n",
    "print(lstm_final.summary())"
   ]
  },
  {
   "cell_type": "code",
   "execution_count": null,
   "metadata": {
    "id": "ddiCcTulvTKP"
   },
   "outputs": [],
   "source": [
    "lstm_final_res = lstm_final.fit(mat_X_tv, mat_y_tv, epochs=500,\n",
    "                                validation_split=0.2,\n",
    "                                callbacks=[checkpoint_cb, early_stopping_cb],\n",
    "                                verbose=0, batch_size=batch_size, shuffle=True)"
   ]
  },
  {
   "cell_type": "code",
   "execution_count": null,
   "metadata": {
    "colab": {
     "base_uri": "https://localhost:8080/",
     "height": 441
    },
    "id": "DFxkJZfFtk-_",
    "outputId": "829eb346-cf8d-4994-ced2-010a7f69ae7b"
   },
   "outputs": [],
   "source": [
    "viz_train_val_metrics(lstm_final_res)"
   ]
  },
  {
   "cell_type": "markdown",
   "metadata": {
    "id": "AKa7EZDsMPli"
   },
   "source": [
    "### Final Model's Predictions on Test Set"
   ]
  },
  {
   "cell_type": "code",
   "execution_count": null,
   "metadata": {
    "id": "sMPUslciToi6"
   },
   "outputs": [],
   "source": [
    "# FORECASTING ON VALIDATION SET\n",
    "y_test_preds = forecast_multi(lstm_final, test_idx)"
   ]
  },
  {
   "cell_type": "code",
   "execution_count": null,
   "metadata": {
    "colab": {
     "base_uri": "https://localhost:8080/"
    },
    "id": "SC5XCwm3h54O",
    "outputId": "14d436e5-8de3-4f26-bae5-b8b38fb53e51"
   },
   "outputs": [],
   "source": [
    "y_test_preds.describe()"
   ]
  },
  {
   "cell_type": "code",
   "execution_count": null,
   "metadata": {
    "colab": {
     "base_uri": "https://localhost:8080/"
    },
    "id": "a0IIrjBhh9Ii",
    "outputId": "e8ef1508-968e-49a8-ad06-9a6c975fa172"
   },
   "outputs": [],
   "source": [
    "y_test.describe()"
   ]
  },
  {
   "cell_type": "code",
   "execution_count": null,
   "metadata": {
    "id": "2CoqxYoTefVd"
   },
   "outputs": [],
   "source": [
    "# GETTING DAILY VOLATILITY QUANTILES\n",
    "q1 = df.vol_current[:split_time_2].describe()['25%']\n",
    "\n",
    "q2 = df.vol_current[:split_time_2].describe()['50%']\n",
    "\n",
    "q3 = df.vol_current[:split_time_2].describe()['75%']"
   ]
  },
  {
   "cell_type": "code",
   "execution_count": null,
   "metadata": {
    "id": "jr6t5Vf5JWHc"
   },
   "outputs": [],
   "source": [
    "from matplotlib.patches import Rectangle\n",
    "import matplotlib.dates as mdates"
   ]
  },
  {
   "cell_type": "code",
   "execution_count": null,
   "metadata": {
    "colab": {
     "base_uri": "https://localhost:8080/",
     "height": 457
    },
    "id": "utuBXdB8T0qc",
    "outputId": "62918730-a859-442f-fc81-1583919c363b"
   },
   "outputs": [],
   "source": [
    "# PLOTTING MODEL PREDICTIONS VS. TARGET VALUES\n",
    "with sns.axes_style(\"white\"):\n",
    "    fig, ax1 = plt.subplots(figsize=(18,7))\n",
    "    # ZOOMING IN THE LAST n_display VALUES\n",
    "    n_display = 365\n",
    "\n",
    "    ax1.plot(df.vol_future[-n_display:], color='blue', \n",
    "                label=f\"Test Set Target Volatility\")\n",
    "    ax1.plot(df.vol_current[-n_display:], color='gray',  ls=':',\n",
    "                label=f\"Current Daily Volatility\")\n",
    "    ax1.plot(y_test_preds, color='orange', lw=3,\n",
    "                label=f'Test Set Forecasted Volatility')\n",
    "    \n",
    "    q_colors = ['gray', 'black', 'gray']\n",
    "    for i, q in enumerate([q1, q2, q3]):\n",
    "        ax1.hlines(y=q, color=q_colors[i], alpha=0.5, label=f'Daily Volatility Q{i+1}', ls='-.', lw=1,\n",
    "                    xmin=df.vol_future[-n_display:].index[0],\n",
    "                    xmax=df.vol_future[-n_display:].index[-1])\n",
    "        \n",
    "    # ADD RECTANGLE TO PLOT AS BACKGROUND FOR TEST DATA    \n",
    "    w = len(test_idx) - 1 \n",
    "    h = df.vol_future[-n_display:].max() - df.vol_future[-n_display:].min()\n",
    "    x0 = mdates.date2num(df.index[split_time_2])\n",
    "    y0 = df.vol_future[-n_display:].min()\n",
    "    rect = Rectangle((x0, y0), w, h, color ='green', alpha=0.1)\n",
    "    ax1.add_patch(rect)\n",
    "\n",
    "    # ADD TEXT\n",
    "    ax1.text(df.index[(split_time_2 + 3)], 0.05, \n",
    "             'Test Data\\n(30 days)', \n",
    "             fontsize=15, color='black')\n",
    "\n",
    "    plt.title(f'Final Model Prediction on Test Set \\n(Zooming in the Most Recent {n_display} Days)', fontsize=20)\n",
    "    ax1.legend(loc='upper left', prop={'size': 14})\n",
    "    plt.tight_layout()\n",
    "    plt.show();"
   ]
  },
  {
   "cell_type": "code",
   "execution_count": null,
   "metadata": {
    "id": "ffT3URDbdEvk"
   },
   "outputs": [],
   "source": [
    "# GENERATING PREDICTIONS ON THE WHOLE DATASET (7 years)\n",
    "mat_X_all, _ = windowed_dataset(input_df, df.vol_future, n_past)\n",
    "preds_all = pd.Series(lstm_final.predict(mat_X_all)[:,0], \n",
    "                      index=df.index[-(mat_X_all).shape[0]:])"
   ]
  },
  {
   "cell_type": "code",
   "execution_count": null,
   "metadata": {
    "colab": {
     "base_uri": "https://localhost:8080/",
     "height": 457
    },
    "id": "n9sex9eZd_26",
    "outputId": "8d6c36a5-a68d-4fc7-f548-66c316f4ffd6"
   },
   "outputs": [],
   "source": [
    "with sns.axes_style(\"white\"):\n",
    "    fig, ax1 = plt.subplots(figsize=(18,7))\n",
    "    # ZOOMING IN THE LAST n_display VALUES\n",
    "    n_display = 365\n",
    "\n",
    "    ax1.plot(df.vol_future[-n_display:], color='blue', \n",
    "                label=f\"Next {n_future} days' Daily Volatility (Target)\")\n",
    "    ax1.plot(df.vol_current[-n_display:], color='gray',  ls='--',\n",
    "                label=f\"Current Daily Volatility\")\n",
    "    ax1.plot(preds_all[-n_display:], color='orange', lw=3,\n",
    "                label=f'Forecasted Volatility')\n",
    "\n",
    "    q_colors = ['gray', 'black', 'gray']\n",
    "    for i, q in enumerate([q1, q2, q3]):\n",
    "        ax1.hlines(y=q,\n",
    "                   xmin=df.vol_future[-n_display:].index[0],\n",
    "                   xmax=df.vol_future[-n_display:].index[-1],\n",
    "                   label=f'Daily Volatility Q{i+1}',\n",
    "                   ls='-.', lw=1, color=q_colors[i], alpha=0.5)\n",
    "    \n",
    "    # ADD RECTANGLE TO PLOT AS BACKGROUND FOR TEST DATA    \n",
    "    w = len(test_idx) - 1 \n",
    "    h = df.vol_future[-n_display:].max() - df.vol_future[-n_display:].min()\n",
    "    x0 = mdates.date2num(df.index[split_time_2])\n",
    "    y0 = df.vol_future[-n_display:].min()\n",
    "    rect = Rectangle((x0, y0), w, h, color ='green', alpha=0.1)\n",
    "    ax1.add_patch(rect)\n",
    "\n",
    "    # ADD TEXT\n",
    "    ax1.text(df.index[(split_time_2 + 3)], 0.05, \n",
    "             'Test Data\\n(30 days)', \n",
    "             fontsize=15, color='black')\n",
    "\n",
    "    plt.title(f'Final Model Predictions (Zooming in the Most Recent {n_display} Days)', fontsize=20)\n",
    "    ax1.legend(loc='upper left', prop={'size': 14})\n",
    "    plt.tight_layout()\n",
    "    plt.show();"
   ]
  },
  {
   "cell_type": "code",
   "execution_count": null,
   "metadata": {
    "id": "ublpIq7QCxyz"
   },
   "outputs": [],
   "source": [
    "perf_df.to_pickle(\"performance_df.pkl\")"
   ]
  },
  {
   "cell_type": "code",
   "execution_count": null,
   "metadata": {
    "colab": {
     "base_uri": "https://localhost:8080/"
    },
    "id": "IdQq7OSXVHt3",
    "outputId": "a14eab7c-bd0d-44c8-ff29-13f804d94b1e"
   },
   "outputs": [],
   "source": [
    "print('RMSPE on Test Set:', RMSPE(y_test, y_test_preds))"
   ]
  },
  {
   "cell_type": "code",
   "execution_count": null,
   "metadata": {
    "colab": {
     "base_uri": "https://localhost:8080/"
    },
    "id": "4edHe7LNmzQV",
    "outputId": "ece60b12-c5c5-4fe0-fb86-5bab747f5e0f"
   },
   "outputs": [],
   "source": [
    "1-RMSPE(y_test, y_test_preds)"
   ]
  }
 ],
 "metadata": {
  "colab": {
   "collapsed_sections": [],
   "name": "report_notebook (3).ipynb",
   "provenance": []
  },
  "kernelspec": {
   "display_name": "Python 3",
   "language": "python",
   "name": "python3"
  },
  "language_info": {
   "codemirror_mode": {
    "name": "ipython",
    "version": 3
   },
   "file_extension": ".py",
   "mimetype": "text/x-python",
   "name": "python",
   "nbconvert_exporter": "python",
   "pygments_lexer": "ipython3",
   "version": "3.11.5"
  }
 },
 "nbformat": 4,
 "nbformat_minor": 1
}
